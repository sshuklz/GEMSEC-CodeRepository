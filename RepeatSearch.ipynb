{
  "nbformat": 4,
  "nbformat_minor": 0,
  "metadata": {
    "kernelspec": {
      "display_name": "Python 3",
      "language": "python",
      "name": "python3"
    },
    "language_info": {
      "codemirror_mode": {
        "name": "ipython",
        "version": 3
      },
      "file_extension": ".py",
      "mimetype": "text/x-python",
      "name": "python",
      "nbconvert_exporter": "python",
      "pygments_lexer": "ipython3",
      "version": "3.7.4"
    },
    "colab": {
      "name": "Copy_of_RepeatSearch.ipynb",
      "provenance": [],
      "collapsed_sections": [],
      "include_colab_link": true
    }
  },
  "cells": [
    {
      "cell_type": "markdown",
      "metadata": {
        "id": "view-in-github",
        "colab_type": "text"
      },
      "source": [
        "<a href=\"https://colab.research.google.com/github/sshuklz/GEMSEC-CodeRepository/blob/master/RepeatSearch.ipynb\" target=\"_parent\"><img src=\"https://colab.research.google.com/assets/colab-badge.svg\" alt=\"Open In Colab\"/></a>"
      ]
    },
    {
      "cell_type": "markdown",
      "metadata": {
        "id": "KaYfoQK6IxId",
        "colab_type": "text"
      },
      "source": [
        "Specify the following variables for search: Reps, Size and Gap_allowance. YOU HAVE TO click both play buttons for the search to update your parameters"
      ]
    },
    {
      "cell_type": "markdown",
      "metadata": {
        "id": "9LiavmExBFJB",
        "colab_type": "text"
      },
      "source": [
        "Amino acid repeat search\n"
      ]
    },
    {
      "cell_type": "code",
      "metadata": {
        "id": "zVeeI5DPItFY",
        "colab_type": "code",
        "colab": {}
      },
      "source": [
        "# give a list of amino acids in square brackets i.e: ['P'] or ['S','G','T'] \n",
        "Reps = ['Q'] \n",
        "\n",
        "# give repeat stretch minimum size i.e: for 'E' and Size = 7 repeats the following are returned: EEEEEEEE, EEEEEEEEEEEEE but not EEE\n",
        "Size = 20\n",
        "\n",
        "# strech of amino acids allowed inbetween repeats ie. if Gap_allowance = 1 and 'E' repeats, EEE - 'S' - EEE - 'FT' - EEEEEE output is EEESEEE \n",
        "Gap_allowance = 0"
      ],
      "execution_count": 0,
      "outputs": []
    },
    {
      "cell_type": "code",
      "metadata": {
        "id": "QvZsQL-i1Z_M",
        "colab_type": "code",
        "outputId": "a82a9a80-2c53-4308-d042-406b413943fd",
        "colab": {
          "base_uri": "https://localhost:8080/",
          "height": 374
        }
      },
      "source": [
        "#@title Search results { display-mode: \"form\" }\n",
        "import codecs\n",
        "import requests\n",
        "from contextlib import closing\n",
        "import csv\n",
        "\n",
        "m=0 # D or E count\n",
        "n=0 # domain sequence count\n",
        "g=0 # non D or E in continous seq\n",
        "\n",
        "DEseq = []\n",
        "AAseq = []\n",
        "Gene = []\n",
        "DElist_row = []\n",
        "\n",
        "url='https://raw.githubusercontent.com/sshuklz/GEMSEC-CodeRepository/master/Human_prot_Full_DB.csv'\n",
        "\n",
        "with closing(requests.get(url, stream=True)) as r:\n",
        "    reader = csv.reader(codecs.iterdecode(r.iter_lines(), 'utf-8'), delimiter=' ') \n",
        "    for row in reader:\n",
        "        m = 0\n",
        "        g = 0\n",
        "        for AApos in range (len(row[-1])):\n",
        "            n += 1\n",
        "            \n",
        "            if row[-1][AApos] in Reps : # repeat residues\n",
        "                m += 1\n",
        "                g = 0\n",
        "            else:\n",
        "                g += 1\n",
        "\n",
        "                if g >= Gap_allowance:\n",
        "                \n",
        "                    if m >= Size: # m is residue count \n",
        "                        Gene = \" \".join(row[:-1]) \n",
        "                        DEseq = row[-1][AApos-(n):AApos+1]\n",
        "                        print(Gene + ': ' + str(DEseq))\n",
        "                        break\n",
        "            \n",
        "                    m = 0\n",
        "                    n = 0"
      ],
      "execution_count": 8,
      "outputs": [
        {
          "output_type": "stream",
          "text": [
            "Forkhead box protein P2: LQQQQQQQQQQQQQQQQQQQQQQQQQQQQQQQQQQQQQQQQH\n",
            "Androgen receptor: LQQQQQQQQQQQQQQQQQQQQQQQE\n",
            "TATA-box-binding protein: RQQQQQQQQQQQQQQQQQQQQQQQQQQQQQQQQQQQQQQA\n",
            "POU domain, class 3, transcription factor 2: HQQQQQQQQQQQQQQQQQQQQQR\n",
            "Huntingtin: FQQQQQQQQQQQQQQQQQQQQQP\n",
            "Probable global transcription activator SNF2L2: LQQQQQQQQQQQQQQQQQQQQQQQP\n",
            "Transcriptional activator MN1: LQQQQQQQQQQQQQQQQQQQQQQQQQQQQR\n",
            "Runt-related transcription factor 2: AQQQQQQQQQQQQQQQQQQQQQQQE\n",
            "Nuclear receptor coactivator 6: LQQQQQQQQQQQQQQQQQQQQQQQQQL\n",
            "FERM and PDZ domain-containing protein 3: NQQQQQQQQQQQQQQQQQQQQQQQQQQQV\n",
            "Mastermind-like protein 2: TQQQQQQQQQQQQQQQQQQQQQQQQQQQQQQQQQQS\n",
            "Mediator of RNA polymerase II transcription subunit 12: EQQQQQQQQQQQQQQQQQQQQQQQQQQY\n",
            "THAP domain-containing protein 11: RQQQQQQQQQQQQQQQQQQQQQQQQQQQQQS\n",
            "Mastermind-like protein 3: KQQQQQQQQQQQQQQQQQQQQQQQQQH\n",
            "E1A-binding protein p400: RQQQQQQQQQQQQQQQQQQQQQQQQQQQQQT\n",
            "Membrane-associated guanylate kinase, WW and PDZ domain-containing protein 1: EQQQQQQQQQQQQQQQQQQQQT\n",
            "Ataxin-2: PQQQQQQQQQQQQQQQQQQQQQQQP\n",
            "Probable E3 ubiquitin-protein ligase IRF2BPL: AQQQQQQQQQQQQQQQQQQQQQQQQQL\n",
            "BMP-2-inducible protein kinase: HQQQQQQQQQQQQQQQQQQQQQQQQQQQH\n",
            "Nuclear receptor coactivator 3: MQQQQQQQQQQQQQQQQQQQQQQQQQQQQQT\n",
            "Numb-like protein: AQQQQQQQQQQQQQQQQQQQQA\n"
          ],
          "name": "stdout"
        }
      ]
    },
    {
      "cell_type": "markdown",
      "metadata": {
        "id": "MUgbp1j4A8TO",
        "colab_type": "text"
      },
      "source": [
        "Nucleotide repeat search\n"
      ]
    },
    {
      "cell_type": "code",
      "metadata": {
        "id": "zGvBzVkNAvKW",
        "colab_type": "code",
        "colab": {}
      },
      "source": [
        "# give a list of amino acids in quotes i.e: 'CAG', 'GAA', 'GCGCGTT'\n",
        "Reps = 'CAG' \n",
        "\n",
        "# give repeat stretch minimum size i.e: for 'CAG' and Size = 4 repeats the following are returned: CAGCAGCAGCAG, CAGCAGCAGCAGCAGCAG but not CAGCAG\n",
        "Size = 8"
      ],
      "execution_count": 0,
      "outputs": []
    },
    {
      "cell_type": "code",
      "metadata": {
        "colab_type": "code",
        "id": "DNiigPdtBx-Q",
        "colab": {
          "base_uri": "https://localhost:8080/",
          "height": 493
        },
        "outputId": "c98178ec-e905-4409-ee5b-d2e3c90057a0"
      },
      "source": [
        "#@title Search results { display-mode: \"form\" }\n",
        "import codecs\n",
        "import requests\n",
        "from contextlib import closing\n",
        "import csv\n",
        "\n",
        "m=0 # D or E count\n",
        "\n",
        "url='https://raw.githubusercontent.com/sshuklz/GEMSEC-CodeRepository/master/Human_cDNA_Fulldb.csv'\n",
        "\n",
        "with closing(requests.get(url, stream=True)) as r:\n",
        "    reader = csv.reader(codecs.iterdecode(r.iter_lines(), 'utf-8'), delimiter=' ') \n",
        "    for row in reader:\n",
        "        SeqRead = ''.join(row[1])\n",
        "        \n",
        "        if SeqRead.count(Reps) > Size:\n",
        "            \n",
        "            if SeqRead.count(Reps*Size) > 0: \n",
        "                \n",
        "                if SeqRead.count(Reps*(Size + m)) > 0:\n",
        "                    \n",
        "                    m+=1\n",
        "                    \n",
        "                else:\n",
        "                    \n",
        "                    print(row[0] + ': ' + Reps*(Size + m))"
      ],
      "execution_count": 14,
      "outputs": [
        {
          "output_type": "stream",
          "text": [
            "MIDEAS: CAGCAGCAGCAGCAGCAGCAGCAGCAG\n",
            "FOXP2: CAGCAGCAGCAGCAGCAGCAGCAGCAGCAG\n",
            "DNER: CAGCAGCAGCAGCAGCAGCAGCAGCAGCAGCAGCAG\n",
            "TMEM229A: CAGCAGCAGCAGCAGCAGCAGCAGCAGCAGCAGCAG\n",
            "TNRC6B: CAGCAGCAGCAGCAGCAGCAGCAGCAGCAGCAGCAG\n",
            "NRG2: CAGCAGCAGCAGCAGCAGCAGCAGCAGCAGCAGCAGCAG\n",
            "TNS1: CAGCAGCAGCAGCAGCAGCAGCAGCAGCAGCAGCAGCAG\n",
            "JCAD: CAGCAGCAGCAGCAGCAGCAGCAGCAGCAGCAGCAGCAG\n",
            "NCOA3: CAGCAGCAGCAGCAGCAGCAGCAGCAGCAGCAGCAGCAG\n",
            "FAM155A: CAGCAGCAGCAGCAGCAGCAGCAGCAGCAGCAGCAGCAG\n",
            "MAMLD1: CAGCAGCAGCAGCAGCAGCAGCAGCAGCAGCAGCAGCAG\n",
            "E2F4: CAGCAGCAGCAGCAGCAGCAGCAGCAGCAGCAGCAGCAGCAG\n",
            "BHLHE22: CAGCAGCAGCAGCAGCAGCAGCAGCAGCAGCAGCAGCAGCAG\n",
            "TNRC18: CAGCAGCAGCAGCAGCAGCAGCAGCAGCAGCAGCAGCAGCAG\n",
            "ATXN7: CAGCAGCAGCAGCAGCAGCAGCAGCAGCAGCAGCAGCAGCAG\n",
            "POU6F2: CAGCAGCAGCAGCAGCAGCAGCAGCAGCAGCAGCAGCAGCAG\n",
            "NCOR2: CAGCAGCAGCAGCAGCAGCAGCAGCAGCAGCAGCAGCAGCAG\n",
            "USF3: CAGCAGCAGCAGCAGCAGCAGCAGCAGCAGCAGCAGCAGCAG\n",
            "IRF2BPL: CAGCAGCAGCAGCAGCAGCAGCAGCAGCAGCAGCAGCAGCAG\n",
            "RAI1: CAGCAGCAGCAGCAGCAGCAGCAGCAGCAGCAGCAGCAGCAG\n",
            "MAGI1: CAGCAGCAGCAGCAGCAGCAGCAGCAGCAGCAGCAGCAGCAG\n",
            "NCOA6: CAGCAGCAGCAGCAGCAGCAGCAGCAGCAGCAGCAGCAGCAGCAG\n",
            "SALL1: CAGCAGCAGCAGCAGCAGCAGCAGCAGCAGCAGCAGCAGCAGCAG\n",
            "ARID3B: CAGCAGCAGCAGCAGCAGCAGCAGCAGCAGCAGCAGCAGCAGCAG\n",
            "MAML3: CAGCAGCAGCAGCAGCAGCAGCAGCAGCAGCAGCAGCAGCAGCAG\n",
            "CELF3: CAGCAGCAGCAGCAGCAGCAGCAGCAGCAGCAGCAGCAGCAGCAG\n",
            "THAP11: CAGCAGCAGCAGCAGCAGCAGCAGCAGCAGCAGCAGCAGCAGCAG\n",
            "MAGI1: CAGCAGCAGCAGCAGCAGCAGCAGCAGCAGCAGCAGCAGCAGCAG\n"
          ],
          "name": "stdout"
        }
      ]
    }
  ]
}