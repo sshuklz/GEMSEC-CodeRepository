{
  "nbformat": 4,
  "nbformat_minor": 0,
  "metadata": {
    "kernelspec": {
      "display_name": "Python 3",
      "language": "python",
      "name": "python3"
    },
    "language_info": {
      "codemirror_mode": {
        "name": "ipython",
        "version": 3
      },
      "file_extension": ".py",
      "mimetype": "text/x-python",
      "name": "python",
      "nbconvert_exporter": "python",
      "pygments_lexer": "ipython3",
      "version": "3.7.4"
    },
    "colab": {
      "name": "RepeatSearch.ipynb",
      "provenance": [],
      "include_colab_link": true
    }
  },
  "cells": [
    {
      "cell_type": "markdown",
      "metadata": {
        "id": "view-in-github",
        "colab_type": "text"
      },
      "source": [
        "<a href=\"https://colab.research.google.com/github/sshuklz/GEMSEC-CodeRepository/blob/master/RepeatSearch.ipynb\" target=\"_parent\"><img src=\"https://colab.research.google.com/assets/colab-badge.svg\" alt=\"Open In Colab\"/></a>"
      ]
    },
    {
      "cell_type": "markdown",
      "metadata": {
        "id": "KaYfoQK6IxId",
        "colab_type": "text"
      },
      "source": [
        "Specify the following variables for search: Reps, Size and Gap_allowance"
      ]
    },
    {
      "cell_type": "code",
      "metadata": {
        "id": "zVeeI5DPItFY",
        "colab_type": "code",
        "colab": {}
      },
      "source": [
        "# give a list of amino acids in square brackets i.e: ['P'] or ['S','G','T'] \n",
        "Reps = ['D','E'] \n",
        "\n",
        "# give repeat stretch minimum size i.e: for 'E' and Size = 7 repeats the following are returned: EEEEEEEE, EEEEEEEEEEEEE but not EEE\n",
        "\n",
        "Size = 20\n",
        "\n",
        "# strech of amino acids allowed inbetween repeats ie. if Gap_allowance = 1 and 'E' repeats, EEE - 'S' - EEE - 'FT' - EEEEEE output is EEESEEE \n",
        "Gap_allowance = 0 "
      ],
      "execution_count": 0,
      "outputs": []
    },
    {
      "cell_type": "code",
      "metadata": {
        "id": "QvZsQL-i1Z_M",
        "colab_type": "code",
        "colab": {}
      },
      "source": [
        "#@title Search results { display-mode: \"form\" }\n",
        "import codecs\n",
        "import requests\n",
        "from contextlib import closing\n",
        "import csv\n",
        "\n",
        "m=0 # D or E count\n",
        "n=0 # domain sequence count\n",
        "g=0 # non D or E in continous seq\n",
        "\n",
        "DEseq = []\n",
        "AAseq = []\n",
        "Gene = []\n",
        "DElist_row = []\n",
        "\n",
        "url='https://raw.githubusercontent.com/sshuklz/GEMSEC-CodeRepository/master/Human_prot_Full_DB.csv'\n",
        "\n",
        "with closing(requests.get(url, stream=True)) as r:\n",
        "    reader = csv.reader(codecs.iterdecode(r.iter_lines(), 'utf-8'), delimiter=' ') \n",
        "    for row in reader:\n",
        "        m = 0\n",
        "        g = 0\n",
        "        for AApos in range (len(row[-1])):\n",
        "            n += 1\n",
        "            \n",
        "            if row[-1][AApos] in Reps : # repeat residues\n",
        "                m += 1\n",
        "                g = 0\n",
        "            else:\n",
        "                g += 1\n",
        "\n",
        "                if g >= Gap_allowance:\n",
        "                \n",
        "                    if m >= Size: # m is residue count \n",
        "                        Gene = \" \".join(row[:-1]) \n",
        "                        DEseq = row[-1][AApos-(n):AApos+1]\n",
        "                        print(Gene + ': ' + str(DEseq))\n",
        "                        break\n",
        "            \n",
        "                    m = 0\n",
        "                    n = 0"
      ],
      "execution_count": 0,
      "outputs": []
    }
  ]
}