{
  "nbformat": 4,
  "nbformat_minor": 0,
  "metadata": {
    "kernelspec": {
      "display_name": "Python 3",
      "language": "python",
      "name": "python3"
    },
    "language_info": {
      "codemirror_mode": {
        "name": "ipython",
        "version": 3
      },
      "file_extension": ".py",
      "mimetype": "text/x-python",
      "name": "python",
      "nbconvert_exporter": "python",
      "pygments_lexer": "ipython3",
      "version": "3.7.4"
    },
    "colab": {
      "name": "Copy_of_RepeatSearch.ipynb",
      "provenance": [],
      "include_colab_link": true
    }
  },
  "cells": [
    {
      "cell_type": "markdown",
      "metadata": {
        "id": "view-in-github",
        "colab_type": "text"
      },
      "source": [
        "<a href=\"https://colab.research.google.com/github/sshuklz/GEMSEC-CodeRepository/blob/master/RepeatAminoAcidSearch.ipynb\" target=\"_parent\"><img src=\"https://colab.research.google.com/assets/colab-badge.svg\" alt=\"Open In Colab\"/></a>"
      ]
    },
    {
      "cell_type": "markdown",
      "metadata": {
        "id": "KaYfoQK6IxId",
        "colab_type": "text"
      },
      "source": [
        "Specify the following variables for search: Reps, Size and Gap_allowance. YOU HAVE TO click both play buttons for the search to update your parameters"
      ]
    },
    {
      "cell_type": "code",
      "metadata": {
        "id": "zVeeI5DPItFY",
        "colab_type": "code",
        "colab": {}
      },
      "source": [
        "# give a list of amino acids in square brackets i.e: ['P'] or ['S','G','T'] \n",
        "Reps = ['D','E'] \n",
        "\n",
        "# give repeat stretch minimum size i.e: for 'E' and Size = 7 repeats the following are returned: EEEEEEEE, EEEEEEEEEEEEE but not EEE\n",
        "\n",
        "Size = 20\n",
        "\n",
        "# strech of amino acids allowed inbetween repeats ie. if Gap_allowance = 1 and 'E' repeats, EEE - 'S' - EEE - 'FT' - EEEEEE output is EEESEEE \n",
        "Gap_allowance = 2 "
      ],
      "execution_count": 0,
      "outputs": []
    },
    {
      "cell_type": "code",
      "metadata": {
        "id": "QvZsQL-i1Z_M",
        "colab_type": "code",
        "outputId": "f71454c4-90b4-482a-d4f4-7563abd0327a",
        "colab": {
          "base_uri": "https://localhost:8080/",
          "height": 1000
        }
      },
      "source": [
        "#@title Search results { display-mode: \"form\" }\n",
        "import codecs\n",
        "import requests\n",
        "from contextlib import closing\n",
        "import csv\n",
        "\n",
        "m=0 # D or E count\n",
        "n=0 # domain sequence count\n",
        "g=0 # non D or E in continous seq\n",
        "\n",
        "DEseq = []\n",
        "AAseq = []\n",
        "Gene = []\n",
        "DElist_row = []\n",
        "\n",
        "url='https://raw.githubusercontent.com/sshuklz/GEMSEC-CodeRepository/master/Human_prot_Full_DB.csv'\n",
        "\n",
        "with closing(requests.get(url, stream=True)) as r:\n",
        "    reader = csv.reader(codecs.iterdecode(r.iter_lines(), 'utf-8'), delimiter=' ') \n",
        "    for row in reader:\n",
        "        m = 0\n",
        "        g = 0\n",
        "        for AApos in range (len(row[-1])):\n",
        "            n += 1\n",
        "            \n",
        "            if row[-1][AApos] in Reps : # repeat residues\n",
        "                m += 1\n",
        "                g = 0\n",
        "            else:\n",
        "                g += 1\n",
        "\n",
        "                if g >= Gap_allowance:\n",
        "                \n",
        "                    if m >= Size: # m is residue count \n",
        "                        Gene = \" \".join(row[:-1]) \n",
        "                        DEseq = row[-1][AApos-(n):AApos+1]\n",
        "                        print(Gene + ': ' + str(DEseq))\n",
        "                        break\n",
        "            \n",
        "                    m = 0\n",
        "                    n = 0"
      ],
      "execution_count": 0,
      "outputs": [
        {
          "output_type": "stream",
          "text": [
            "Zinc finger and BTB domain-containing protein 7C: GEEDDKEDDDDDEDDDDEEDEEEEEEEEEDDDDDTEDFA\n",
            "Protein PAT1 homolog 2: LEKEEENEGEEEEEEEDEEDLDPDLDPDLEEEENDLG\n",
            "Transcription elongation factor SPT5: SEKEEEPEDEEEEEEEEEYDEEEEEEDDDRP\n",
            "Tubby-related protein 1: PDAEDEEEEEEEDEEDEEEEAEEKK\n",
            "Protein phosphatase 1G: SEEAENEEDEDDTEEAEEDDEEEEEEMM\n",
            "Sodium/potassium/calcium exchanger 1: GDSEEEEEEEEEQEEEEEEEEQEEEEEEEEEEEEKG\n",
            "Eukaryotic translation initiation factor 5B: PEEEEEEEEEEEEDEESEEEEEEEGESEGS\n",
            "Extracellular matrix protein 2: REEEEDEEEEGEEGEEDEEDEEDPV\n",
            "Pleckstrin homology domain-containing family G member 5: LEEEEDEQEEEEEEEEEEEEGEDSG\n",
            "Amyloid-beta precursor protein: AEVEEEEADDDEDDEDGDEVEEEAEEPY\n",
            "Nucleophosmin: ADEDDDDDDEEDDDEDDDDDDFDDEEAEEKA\n",
            "Major centromere autoantigen B: SEGEEEEEEEEEEEEEEGEGEEEEEEGEEEEEEGG\n",
            "DDB1- and CUL4-associated factor 8-like protein 2: GEEEEEEEEEEEEEEEEEEEEEEQP\n",
            "Nucleoprotein TPR: IDSDDEEEDDDENDGEHEDYEEDEEDDDDDEDDTG\n",
            "Glucosidase 2 subunit beta: TEEEEEEEEEEEEEAEEEEEEEDSEEAP\n",
            "Nucleolar transcription factor 1: SESEEDDEEDEDDEDEDEEEEDDENG\n",
            "Negative elongation factor E: RDRDRDRERDRDRDRDRDRERDRDRDRDRDRDRERDRDRERDRDRDREGP\n",
            "Nucleolin: KEDSDEEEDDDSEEDEEDDEDEDEDEDEIEPA\n",
            "Parathymosin: AEDGEEEDEGEEEDEEEEEEDDEGP\n",
            "Ryanodine receptor 1: TEEEEEEDEEEEGEEEDEEEKEEDEEETA\n",
            "Calreticulin: KEEEEAEDKEDDEDKDEDEEDEEDKEEDEEEDVP\n",
            "Zinc finger E-box-binding homeobox 1: GDEEEEEEEEEVEEEEVEEAENEGEEAK\n",
            "Ran GTPase-activating protein 1: SDDEDEEEEEEGEEEEEEAEEEEEEDEEEEEEEEEEEEEEPQ\n",
            "Transcriptional regulator ATRX: SEEEEEEKEEEEEEEEEEEEEEEDENDDSK\n",
            "RNA-binding protein 25: RDREREREREREREREREREREREREREREREREREREKDKK\n",
            "Huntingtin-associated protein 1: SDSDEEDEDEEEEEEEKEAEEEQEEEEAEEDLQ\n",
            "Nucleosome assembly protein 1-like 1: IEDDDDDYDEEGEEADEEGEEEGDEENDPDYDPK\n",
            "Anaphase-promoting complex subunit 15: YDDEEEEDDEDDEDSEEDSEDDEDMQ\n",
            "Myelin transcription factor 1: HEEEDEEEEEEEEEEEEDEEEEEEEEEEEEEEEEEEEEEEEEEEEEEEEEAA\n",
            "Leiomodin-3: QETDEEDEEEEDDDDDDEGEDDGEESEETN\n",
            "PR domain zinc finger protein 2: GEEEEEEEEEDEEEEEDDDDDELEDEGEEEAS\n",
            "C-Jun-amino-terminal kinase-interacting protein 2: IDDNEEEDDEDEEEEEEEEEGDGEGQ\n",
            "Neurogenic differentiation factor 1: GEEEDEDEDLEEEEEEEEEDDDQK\n",
            "Cyclic nucleotide-gated cation channel beta-1: IEEEKEDEEEEEEEEEEEEEEEVT\n",
            "Genetic suppressor element 1: REREREREREREREADREREKEREREREKEREQEKEREREKERERELERQ\n",
            "Zinc finger homeobox protein 3: AEEEAEEEEEEEEAEEEEEEEEEEEEEEEDEGC\n",
            "AT-rich interactive domain-containing protein 4B: KEEDEDDEEAEEEEEEEEEEEDEDDDDNN\n",
            "Leucine-rich repeat-containing protein 23: SDEDDLEDSEPDQDDSEKEEDEKETEEGEDYR\n",
            "Nuclear cap-binding protein subunit 3: IEEEEEEEEEEEEEEEEDQDMDADDRV\n",
            "Transcription initiation factor TFIID subunit 7-like: NDDDEDEDDEDEDEDEDEDEDEDKEEEEEDCS\n",
            "Zinc finger CCCH domain-containing protein 13: REREREREKERDRERDRDRDHDRERERERERDREKEREREREERERERERERERERERERERERA\n",
            "Tau-tubulin kinase 1: KEEEEEEEEDEEEEEEDEEEEEEEEEEEEEEEEEEEEEEEAA\n",
            "Cysteine-rich hydrophobic domain-containing protein 1: PDDDEEDEEEEEEEEEEEEEEEEEEEEEAP\n",
            "ATPase family AAA domain-containing protein 2: SEEGEDQEHEDDGEDEDDEDDDDDDDDDDDDDDEDDEDEEDGEEENQ\n",
            "Phospholipid phosphatase-related protein type 3: AEEEEEEEDEEEEEEEEEEEDEGP\n",
            "Glutamate-rich protein 6: KESEEELEEEEEEEEVEEEEEEVEEEEEEVEEEEEEVV\n",
            "[F-actin]-monooxygenase MICAL3: NEEEEEEEEEYEEEEEEDYDEEEEESS\n",
            "E3 ubiquitin-protein ligase HUWE1: QDEEEEEEEDEEDDQEDDEGEEGDEDDDDDGS\n",
            "Nucleoplasmin-2: WEEEEEEEGEEEEEEEEDDEDEDADIS\n",
            "Armadillo-like helical domain-containing protein 4: QEDEDEEDEEDEDEEEEDEEEDEEDKDADSL\n",
            "Zinc finger protein castor homolog 1: PEEEAEDDEDEDDDEDDDDEDDDEDDDDEDLR\n",
            "Peroxisome proliferator-activated receptor gamma coactivator 1-beta: QEEEDEEEEEEEEEEEKEEEEEWG\n",
            "Homeobox and leucine zipper protein Homez: PEDDEEEEEEEEEDDDDDDDDVI\n",
            "Proline-, glutamic acid- and leucine-rich protein 1: SDEEEEEEEEEEEEEEEEEEEEEDFEEEEEDEEEYF\n",
            "Protein FAM9A: VEDEEEEEKEEEEEKEEEEEEGEEEGG\n",
            "Mesoderm induction early response protein 1: PEEDEEEEEEEEEGEDDEDADNDDNS\n",
            "Coiled-coil domain-containing glutamate-rich protein 1: SEEEEEVEDEEEEVEDEEEEEVEEAEYV\n",
            "Zinc finger protein 526: LEEEEEDDEEDEEDDEEMEDEEAM\n",
            "Splicing regulatory glutamine/lysine-rich protein 1: KDRDKEREKDREKDKEKDREREREKEHEKDRDKEKEKEQDKEKEREKDRS\n",
            "Histone acetyltransferase KAT6B: SEEEEEEEDEEEEEEEEEEEEDEEEEEEEEEEEEEENI\n",
            "Cysteine/serine-rich nuclear protein 3: SESDEEEEEEEEEEEEEDDDDDKG\n",
            "Acidic leucine-rich nuclear phosphoprotein 32 family member B: VDEEEEDEEGEDEEDEDDEDGEEEEFDEEDDEDEDVEGDEDDDEVS\n",
            "Zinc finger protein 622: QEEDSEEEEEDLDGDDWEDIDSDEELECEDTEAM\n",
            "Clusterin-associated protein 1: GDSDDNEDSEESEIDMEDDDDEDDDLEDESI\n",
            "Tripartite motif-containing protein 44: GEESESEEESESEEESETEEESEDESDEESEEDSEEEMEDEQESEAEEDNQ\n",
            "Coiled-coil domain-containing protein 136: TEDQEENEEDKEEEEKEEDSEEEEDDADSS\n",
            "Histone-lysine N-methyltransferase EHMT2: SEEEEEEEEEEEEEEEEEEEEEEEEDEESG\n",
            "YTH domain-containing protein 1: VEEDVEEDEEVEEDAEEDEEVDEDGEEEEEEEEEEEEEEEEEEEEYEQDERDQK\n",
            "Nucleosome assembly protein 1-like 5: LEGEEEEEEEYEDDEEEGEDEEEEEAA\n",
            "DNA-directed RNA polymerase III subunit RPC7-like: SEEDEEKEEEEEKEEEEEEEYDEEEHEEETDYI\n",
            "Acidic leucine-rich nuclear phosphoprotein 32 family member E: YEEEEEEEEEEDEDEDEDEDEAG\n",
            "Polycomb group RING finger protein 6: FEDEDEELEEEEELEEEEEEEEEDMS\n",
            "B-cell lymphoma/leukemia 11A: GDEEEEEDDEEEEEEEEEEEEELT\n",
            "ESF1 homolog: SEDDEEEDEDEEEDEDEDSEDDDKS\n",
            "Splicing factor, arginine/serine-rich 19: PEEEEEEEEEEEEEEEDEEEEEGL\n",
            "Anoctamin-8: KEEDEDDEEEEDEEEEEDEEEGEEGG\n",
            "Reticulon-4: REPEDEEEEEEEEEEDEDEDLEELEVL\n",
            "PR domain zinc finger protein 10: KEEEDEDEDEDTEEDEEEDGEDTDLDDWEPDPP\n",
            "Zinc finger and BTB domain-containing protein 4: GEEMEESEEDEEEEDEEEEEEDEEESK\n",
            "BRCA2 and CDKN1A-interacting protein: RDEEEEKEVENEDEDDDDSDKEKDEEDEVI\n",
            "Death domain-associated protein 6: AETDDEDDEESDEEEEEEEEEEEEEAT\n",
            "Bromodomain adjacent to zinc finger domain protein 2B: NEDEEEDDEEEDEEDDEDDESDDSQ\n",
            "Tyrosine-protein kinase BAZ1B: SEDSEDDESDEEEEEEEEEEEEEDYEVA\n",
            "Apoptotic chromatin condensation inducer in the nucleus: TEEEEEEEEEEEEDDEEEEGDDEGQ\n",
            "Myelin transcription factor 1-like protein: GDEDEEDEEGDREEEEEIEEEDEDDDEDGEDVEDEEEEEEEEEEEEEEEENEDHQ\n",
            "Protein Shroom4: QEEEEEEEEEEEEEEEEEEEEAEEEEEELP\n",
            "DDB1- and CUL4-associated factor 1: AEDEDEEEDQEEEEQEEEDDDEDDDDTDDLDELDTDQL\n",
            "Ribosomal biogenesis protein LAS1L: VEEEEENDDQEEEEEDEDDEDDEEEDRM\n"
          ],
          "name": "stdout"
        }
      ]
    }
  ]
}